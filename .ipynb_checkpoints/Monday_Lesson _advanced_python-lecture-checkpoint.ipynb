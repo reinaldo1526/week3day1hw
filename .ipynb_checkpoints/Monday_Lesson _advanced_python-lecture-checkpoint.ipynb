{
 "cells": [
  {
   "cell_type": "markdown",
   "metadata": {},
   "source": [
    "# Advanced Object-Oriented-Programming (OOP)"
   ]
  },
  {
   "cell_type": "markdown",
   "metadata": {},
   "source": [
    "## Tasks Today:\n",
    "\n",
    "1) <b>Creating Multiple Instances Through Loops</b> <br>\n",
    " &nbsp;&nbsp;&nbsp;&nbsp; a) Using Loops <br>\n",
    " &nbsp;&nbsp;&nbsp;&nbsp; b) Using Multiple Lists with Loops <br>\n",
    " &nbsp;&nbsp;&nbsp;&nbsp; c) Using List Comprehension with Classes<br>\n",
    " &nbsp;&nbsp;&nbsp;&nbsp; d) In-Class Exercise #1 <br>\n",
    "2) <b>Magic Methods</b> <br>\n",
    " &nbsp;&nbsp;&nbsp;&nbsp; a) \\__str\\__ <br>\n",
    " &nbsp;&nbsp;&nbsp;&nbsp; b) \\__add\\__ <br>\n",
    " &nbsp;&nbsp;&nbsp;&nbsp; c) Overriding Magic Methods <br>\n",
    " &nbsp;&nbsp;&nbsp;&nbsp; d) In-Class Exercise #2 <br>\n",
    "3) <b>Inheritance & Method Overriding (recap)</b> <br>\n",
    " &nbsp;&nbsp;&nbsp;&nbsp; a) Inheriting (recap)  <br>\n",
    " &nbsp;&nbsp;&nbsp;&nbsp; b) Overriding Inherited Magic Methods <br>\n",
    " &nbsp;&nbsp;&nbsp;&nbsp; c) Inheriting Multiple Classes <br>\n",
    " &nbsp;&nbsp;&nbsp;&nbsp; d) In-Class Exercise #3 <br>"
   ]
  },
  {
   "cell_type": "markdown",
   "metadata": {},
   "source": [
    "## Creating Multiple Instances Through Loops <br>\n",
    "<p>We can use loops to create multiple instances of a single object in just a couple of lines, even just one line.</p>"
   ]
  },
  {
   "cell_type": "markdown",
   "metadata": {},
   "source": [
    "#### Using Loops"
   ]
  },
  {
   "cell_type": "code",
   "execution_count": 4,
   "metadata": {},
   "outputs": [
    {
     "name": "stdout",
     "output_type": "stream",
     "text": [
      "Max has 0 legs\n",
      "Max has 1 legs\n",
      "Max has 2 legs\n",
      "Max has 3 legs\n",
      "Max has 4 legs\n"
     ]
    }
   ],
   "source": [
    "class Dog():\n",
    "    def __init__(self, name, legs):\n",
    "        self.name = name\n",
    "        self.legs = legs\n",
    "        \n",
    "    def printInfo(self):\n",
    "        print(\"{} has {} legs\".format(self.name,self.legs))\n",
    "        \n",
    "#Normal/ long from way\n",
    "dog1 = Dog(\"lassie\", 4)\n",
    "dog2 = Dog(\"Max\",4)\n",
    "\n",
    "dogs = []\n",
    "\n",
    "# Using a loop to create multiple instance of a class\n",
    "for i in range(5):\n",
    "    dogs.append(Dog(\"Max\", i))\n",
    "    \n",
    "for i in range(len(dogs)):\n",
    "    dogs [i].printInfo()"
   ]
  },
  {
   "cell_type": "markdown",
   "metadata": {},
   "source": [
    "#### Using Multiple Lists with Loops"
   ]
  },
  {
   "cell_type": "code",
   "execution_count": 5,
   "metadata": {},
   "outputs": [
    {
     "name": "stdout",
     "output_type": "stream",
     "text": [
      "Max has 4 legs\n",
      "Sam has 4 legs\n",
      "Clifford has 4 legs\n",
      "Lassie has 4 legs\n",
      "Butch has 4 legs\n"
     ]
    }
   ],
   "source": [
    "names = [\"Max\", \"Sam\", \"Clifford\", \"Lassie\", \"Butch\"]\n",
    "dogs = []\n",
    "\n",
    "for i in range(len(names)):\n",
    "    dogs.append(Dog(names[i],4))\n",
    "    \n",
    "for i in range(len(dogs)):\n",
    "    dogs[i].printInfo()"
   ]
  },
  {
   "cell_type": "markdown",
   "metadata": {},
   "source": [
    "#### Using List Comprehension with Classes"
   ]
  },
  {
   "cell_type": "code",
   "execution_count": 6,
   "metadata": {},
   "outputs": [
    {
     "name": "stdout",
     "output_type": "stream",
     "text": [
      "Max has 4 legs\n",
      "Sam has 4 legs\n",
      "Clifford has 4 legs\n",
      "Lassie has 4 legs\n",
      "Butch has 4 legs\n"
     ]
    }
   ],
   "source": [
    "dogs = [Dog(names[i],4) for i in range(len(names))]\n",
    "\n",
    "for dog in dogs:\n",
    "    dog.printInfo()"
   ]
  },
  {
   "cell_type": "markdown",
   "metadata": {},
   "source": [
    "#### In-Class Exercise #1 - Use List Comprehension to create multiple 'Dog' objects using the lists below... <br>\n",
    "<p>names = ['max', 'lassy', 'sammi']<br>colors=['brown', 'black', 'mix']</p>"
   ]
  },
  {
   "cell_type": "code",
   "execution_count": 7,
   "metadata": {},
   "outputs": [
    {
     "name": "stdout",
     "output_type": "stream",
     "text": [
      "My name is Max and my color is Brown \n",
      "My name is Lassy and my color is Black \n",
      "My name is Sammi and my color is Mix \n"
     ]
    }
   ],
   "source": [
    "names = ['Max', 'Lassy', 'Sammi']\n",
    "colors =['Brown', 'Black', 'Mix']\n",
    "\n",
    "class dogs():\n",
    "    def __init__(self, name, color):\n",
    "        self.name = name\n",
    "        self.color = color\n",
    "        \n",
    "    def printInfo(self):\n",
    "        print(\"My name is {} and my color is {} \".format(self.name,self.color))\n",
    "\n",
    "dogs = [dogs(names[i], colors[i]) for i in range(len(names))]\n",
    "\n",
    "for dog in dogs:\n",
    "    dog.printInfo()\n"
   ]
  },
  {
   "cell_type": "markdown",
   "metadata": {},
   "source": [
    "## Magic Methods <br>\n",
    "<p>Magic methods are any method that begins and ends with two underscores... You've already seen one of them in __init__(). Magic methods are the general functionality of an object, and you have the ability to overwrite what those methods do, giving you flexibility in your program.</p>"
   ]
  },
  {
   "cell_type": "markdown",
   "metadata": {},
   "source": [
    "#### \\__str\\__ <br>\n",
    "<p>This is the output of an object when you print the object itself.</p>"
   ]
  },
  {
   "cell_type": "code",
   "execution_count": 9,
   "metadata": {},
   "outputs": [
    {
     "name": "stdout",
     "output_type": "stream",
     "text": [
      "Jack is 27 years old and has 10 many toes\n"
     ]
    }
   ],
   "source": [
    "class Person():\n",
    "    def __init__(self,name,age,number_of_toes):\n",
    "        self.name = name\n",
    "        self.age = age\n",
    "        self.number_of_toes = number_of_toes\n",
    "        \n",
    "    def __str__(self):  #must always have a return\n",
    "        return \"{} is {} years old and has {} many toes\".format(self.name, self.age, self.number_of_toes)\n",
    "    \n",
    "jack = Person(\"Jack\",27,10)\n",
    "print(jack)"
   ]
  },
  {
   "cell_type": "markdown",
   "metadata": {},
   "source": [
    "#### \\__add\\__"
   ]
  },
  {
   "cell_type": "code",
   "execution_count": 14,
   "metadata": {},
   "outputs": [
    {
     "name": "stdout",
     "output_type": "stream",
     "text": [
      "8\n"
     ]
    }
   ],
   "source": [
    "class Dog():\n",
    "    def __init__(self, name, color, legs):\n",
    "        self.name = name\n",
    "        self.color = color\n",
    "        self.legs = legs\n",
    "        \n",
    "        #Override the __add__magic method\n",
    "    def __add__(self,extra_number_legs):\n",
    "        if type(extra_number_legs) !=int:\n",
    "            return self.legs + extra_number_legs.legs\n",
    "        else:\n",
    "            return self.legs + extra_number_legs\n",
    "        #The original __add__ works like this:\n",
    "        # a = b = a.__add__(b)\n",
    "        ''\n",
    "dog1 = Dog(\"Max\", \"Mixed\",4)\n",
    "dog2 = Dog(\"Lassy\", \"Black\",4)\n",
    "\n",
    "num_legs = dog2 + dog1\n",
    "print(num_legs)"
   ]
  },
  {
   "cell_type": "markdown",
   "metadata": {},
   "source": [
    "#### Overriding Magic Methods"
   ]
  },
  {
   "cell_type": "code",
   "execution_count": null,
   "metadata": {},
   "outputs": [],
   "source": [
    "# see above"
   ]
  },
  {
   "cell_type": "markdown",
   "metadata": {},
   "source": [
    "#### In-Class Exercise #2 - Google another magic method and overwrite it's functionality..."
   ]
  },
  {
   "cell_type": "code",
   "execution_count": 23,
   "metadata": {},
   "outputs": [
    {
     "name": "stdout",
     "output_type": "stream",
     "text": [
      "2\n"
     ]
    }
   ],
   "source": [
    "class Dog():\n",
    "    def __init__(self, name, color, legs):\n",
    "        self.name = name\n",
    "        self.color = color\n",
    "        self.legs = legs\n",
    "        \n",
    "    def __sub__(self,extra_number_legs):\n",
    "        if type(extra_number_legs) !=int:\n",
    "            return self.legs - extra_number_legs.legs\n",
    "        else:\n",
    "            return self.legs - extra_number_legs\n",
    "        \n",
    "dog1 = Dog(\"Linda\", \"brown\",4)\n",
    "dog2 = Dog(\"Daisy\", \"white\",6)\n",
    "\n",
    "num_legs = dog2 - dog1\n",
    "print(num_legs)"
   ]
  },
  {
   "cell_type": "markdown",
   "metadata": {},
   "source": [
    "## Inheritance & Method Overriding (recap)"
   ]
  },
  {
   "cell_type": "markdown",
   "metadata": {},
   "source": [
    "#### Inheriting (recap)"
   ]
  },
  {
   "cell_type": "code",
   "execution_count": 26,
   "metadata": {},
   "outputs": [
    {
     "name": "stdout",
     "output_type": "stream",
     "text": [
      "This is an Mammal\n",
      "Frank is part of the Mammal species\n"
     ]
    }
   ],
   "source": [
    "class Animal():\n",
    "    def __init__(self,species):\n",
    "        self.species = species\n",
    "        \n",
    "    def __str__(self):\n",
    "        return 'This is an {}'.format(self.species)\n",
    "    \n",
    "class Dog(Animal):\n",
    "    def __init__(self,species,name):\n",
    "        self.name = name\n",
    "        Animal.__init__(self,species)\n",
    "        \n",
    "    def __str__(self):\n",
    "        return \"{} is part of the {} species\".format(self.name, self.species)\n",
    "        \n",
    "mammal = Animal(\"Mammal\")\n",
    "dog = Dog(\"Mammal\",\"Frank\")\n",
    "print(mammal)\n",
    "print(dog)"
   ]
  },
  {
   "cell_type": "markdown",
   "metadata": {},
   "source": [
    "#### Overriding Inherited Magic Methods"
   ]
  },
  {
   "cell_type": "code",
   "execution_count": null,
   "metadata": {},
   "outputs": [],
   "source": [
    "# see above"
   ]
  },
  {
   "cell_type": "markdown",
   "metadata": {},
   "source": [
    "#### Inheriting Multiple Classes"
   ]
  },
  {
   "cell_type": "code",
   "execution_count": 27,
   "metadata": {},
   "outputs": [
    {
     "name": "stdout",
     "output_type": "stream",
     "text": [
      "Bobby is apart of the Canine species and runs 30 mph\n"
     ]
    }
   ],
   "source": [
    "class Physics():\n",
    "    def __init__ (self,speed):\n",
    "        self.gravity = 9.8\n",
    "        self.speed = speed\n",
    "        \n",
    "class Animals():\n",
    "    def __init__(self,species):\n",
    "        self.species = species\n",
    "        \n",
    "    def __str__(self):\n",
    "        return \"This is a {}\".format(self.species)\n",
    "        \n",
    "class Dog(Animal,Physics):\n",
    "    def __init__(self,species,name,speed):\n",
    "        self.name = name\n",
    "        Animal.__init__(self,species)\n",
    "        Physics.__init__(self,speed)\n",
    "        \n",
    "    def __str__(self):\n",
    "        return \"{} is apart of the {} species and runs {} mph\".format(self.name, self.species,self.speed)\n",
    "    \n",
    "dog1 = Dog(\"Canine\", \"Bobby\", 30)\n",
    "\n",
    "print(dog1)\n",
    "        "
   ]
  },
  {
   "cell_type": "raw",
   "metadata": {},
   "source": []
  },
  {
   "cell_type": "markdown",
   "metadata": {},
   "source": [
    "#### In-Class Exercise #3 - Create a transportation class, a physics class, and a bus class <br>\n",
    "<p>Create a transportation class, a physics class, and a bus class... Have the Bus class inherit both the transportation class and physics class. The physics class should have an attribute of speed, and print out the speed, plus have an acceleration method. The transportation class should have a 'type_of_transportation' attribute, and print the type(type_of_transportation [i.e road/air]) that is being used. The bus class should have attributes that describe the bus, such as; wheels, color, size, etc. Overwrite the __str__ method so that when you print the object, it prints out the bus information, and the speed.</p>"
   ]
  },
  {
   "cell_type": "code",
   "execution_count": 62,
   "metadata": {},
   "outputs": [
    {
     "name": "stdout",
     "output_type": "stream",
     "text": [
      "This is a Flying yellow bus, is part of the Space School and it could reach a speed of 340 mph\n",
      "360\n"
     ]
    }
   ],
   "source": [
    "class Physics():\n",
    "    def __init__ (self,speed):\n",
    "        self.speed = speed\n",
    "        \n",
    "    def acceleration(self):\n",
    "         return self.speed + 20\n",
    "        \n",
    "class Transportation():\n",
    "    def __init__(self,air):\n",
    "        self.air = air\n",
    "        \n",
    "    def __str__(self):\n",
    "         return \"This is a {}\".format(self.air)\n",
    "        \n",
    "class Bus(Transportation,Physics):\n",
    "    def __init__(self,air,name,speed,color):\n",
    "        self.name = name\n",
    "        self.color = color\n",
    "        Transportation.__init__(self,air)\n",
    "        Physics.__init__(self,speed)\n",
    "        \n",
    "    def __str__(self):\n",
    "        return\"This is a Flying {} {}, is part of the {} School and it could reach a speed of {} mph\".format(self.name,self.color,self.air,self.speed)\n",
    "    \n",
    "bus1 = Bus(\"Space\", \"yellow\",340, \"bus\")\n",
    "\n",
    "print(bus1)\n",
    "print(bus1.acceleration())\n",
    "        "
   ]
  },
  {
   "cell_type": "code",
   "execution_count": null,
   "metadata": {},
   "outputs": [],
   "source": []
  }
 ],
 "metadata": {
  "kernelspec": {
   "display_name": "Python 3",
   "language": "python",
   "name": "python3"
  },
  "language_info": {
   "codemirror_mode": {
    "name": "ipython",
    "version": 3
   },
   "file_extension": ".py",
   "mimetype": "text/x-python",
   "name": "python",
   "nbconvert_exporter": "python",
   "pygments_lexer": "ipython3",
   "version": "3.7.4"
  }
 },
 "nbformat": 4,
 "nbformat_minor": 2
}
